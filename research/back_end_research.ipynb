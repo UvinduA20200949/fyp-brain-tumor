{
 "cells": [
  {
   "cell_type": "code",
   "execution_count": 69,
   "metadata": {},
   "outputs": [],
   "source": [
    "import os\n",
    "os.environ[\"TF_CPP_MIN_LOG_LEVEL\"] = \"2\"\n",
    "import tensorflow as tf\n",
    "from tensorflow import keras\n",
    "from tensorflow.keras import layers\n",
    "from tensorflow.keras.preprocessing.image import ImageDataGenerator\n",
    "import tensorflow as tf\n",
    "import tensorflow_addons as tfa\n",
    "import matplotlib.pyplot as plt\n",
    "import numpy as np \n"
   ]
  },
  {
   "cell_type": "code",
   "execution_count": 6,
   "metadata": {},
   "outputs": [],
   "source": [
    "def load_and_convert_image(image_path, target_height = 256, target_width = 256):\n",
    "    \"\"\"\n",
    "    Load an image from a file path and convert it into a TensorFlow tensor.\n",
    "\n",
    "    Args:\n",
    "    - image_path: Path to the image file.\n",
    "\n",
    "    Returns:\n",
    "    - image: A TensorFlow tensor representing the loaded image with values in the range [0, 1].\n",
    "    \"\"\"\n",
    "    # Read the image file\n",
    "    img_raw = tf.io.read_file(image_path)\n",
    "\n",
    "    # Decode the image, assuming it is in RGB format\n",
    "    image = tf.image.decode_image(img_raw, channels=3)\n",
    "\n",
    "    # Convert image to floating point values in the range [0, 1]\n",
    "    image = tf.image.convert_image_dtype(image, tf.float32)\n",
    "\n",
    "    resized_image = tf.image.resize(image, [target_height, target_width])\n",
    "\n",
    "    return resized_image\n"
   ]
  },
  {
   "cell_type": "code",
   "execution_count": 7,
   "metadata": {},
   "outputs": [],
   "source": [
    "image_path = 'C:/Users/admin/Desktop/Project/project-tumor-detection/research/Tr-me_0034.jpg'\n",
    "image1 = load_and_convert_image(image_path)"
   ]
  },
  {
   "cell_type": "code",
   "execution_count": 8,
   "metadata": {},
   "outputs": [],
   "source": [
    "def apply_median_filter(image):\n",
    "    \"\"\"\n",
    "    Apply a median filter to an image.\n",
    "\n",
    "    Args:\n",
    "    - image: A tensor representing an image.\n",
    "\n",
    "    Returns:\n",
    "    - filtered_image: The image after applying the median filter.\n",
    "    \"\"\"\n",
    "\n",
    "    filtered_image = tfa.image.median_filter2d(image, filter_shape=(3, 3))\n",
    "\n",
    "    return filtered_image"
   ]
  },
  {
   "cell_type": "code",
   "execution_count": 9,
   "metadata": {},
   "outputs": [],
   "source": [
    "image2 = apply_median_filter(image1)"
   ]
  },
  {
   "cell_type": "code",
   "execution_count": 39,
   "metadata": {},
   "outputs": [],
   "source": [
    "def segment_image(image):\n",
    "    \"\"\"\n",
    "    Apply simple thresholding to segment the image.\n",
    "    \n",
    "    Args:\n",
    "    - image: The input image tensor.\n",
    "    - label: The corresponding label tensor.\n",
    "    \n",
    "    Returns:\n",
    "    - segmented_image: The segmented image tensor.\n",
    "    - label: The unchanged label tensor.\n",
    "    \"\"\"\n",
    "    # Convert the image to grayscale if it's not already\n",
    "    image_gray = tf.image.rgb_to_grayscale(image) if image.shape[-1] == 3 else image\n",
    "    \n",
    "    # Normalize the image tensor to [0, 1]\n",
    "    image_normalized = image_gray / 255.0\n",
    "    \n",
    "    # Define the threshold value\n",
    "    threshold = 0.1 # This is a normalized threshold since the image is normalized\n",
    "    \n",
    "    # Apply thresholding\n",
    "    segmented_image = tf.where(image_normalized < threshold, 0.0, 1.0)\n",
    "    \n",
    "    # The output segmented_image will have values 0 for background and 1 for foreground\n",
    "    \n",
    "    return segmented_image"
   ]
  },
  {
   "cell_type": "code",
   "execution_count": 40,
   "metadata": {},
   "outputs": [],
   "source": [
    "image3 = segment_image(image2)"
   ]
  },
  {
   "cell_type": "code",
   "execution_count": 41,
   "metadata": {},
   "outputs": [],
   "source": [
    "def display_image_tensor(image_tensor):\n",
    "    \"\"\"\n",
    "    Displays an image contained in a TensorFlow tensor.\n",
    "\n",
    "    Args:\n",
    "    - image_tensor: A TensorFlow tensor representing an image.\n",
    "    \"\"\"\n",
    "    # Convert the tensor to a numpy array\n",
    "    image_numpy = image_tensor.numpy()\n",
    "\n",
    "    # Display the image using matplotlib\n",
    "    plt.imshow(image_numpy)\n",
    "    plt.axis('off')  # Hide the axis\n",
    "    plt.show()\n"
   ]
  },
  {
   "cell_type": "code",
   "execution_count": 42,
   "metadata": {},
   "outputs": [
    {
     "data": {
      "image/png": "[encoded data removed]",
      "text/plain": [
       "<Figure size 640x480 with 1 Axes>"
      ]
     },
     "metadata": {},
     "output_type": "display_data"
    }
   ],
   "source": [
    "display_image_tensor(image3)"
   ]
  },
  {
   "cell_type": "code",
   "execution_count": 43,
   "metadata": {},
   "outputs": [
    {
     "data": {
      "image/png": "[encoded data removed]",
      "text/plain": [
       "<Figure size 640x480 with 1 Axes>"
      ]
     },
     "metadata": {},
     "output_type": "display_data"
    }
   ],
   "source": [
    "plt.imshow(image3, cmap='gray')\n",
    "plt.show()"
   ]
  },
  {
   "cell_type": "code",
   "execution_count": 64,
   "metadata": {},
   "outputs": [],
   "source": [
    "def segment_image(image):\n",
    "    \"\"\"\n",
    "    Apply simple thresholding to segment the image.\n",
    "    \n",
    "    Args:\n",
    "    - image: The input image tensor.\n",
    "    \n",
    "    Returns:\n",
    "    - segmented_image: The segmented image tensor, with foreground as 1 and background as 0.\n",
    "    \"\"\"\n",
    "    # Convert the image to grayscale if it's not already\n",
    "    image_gray = tf.image.rgb_to_grayscale(image) if image.shape[-1] == 3 else image\n",
    "    \n",
    "    # Normalize the image tensor to [0, 1]\n",
    "    image_normalized = image_gray  #/ 255.0\n",
    "    \n",
    "    # Define the threshold value\n",
    "    threshold = 0.3 # This is a normalized threshold since the image is normalized\n",
    "    \n",
    "    # Apply thresholding\n",
    "    segmented_image = tf.where(image_normalized < threshold, 0.0, 1.0)\n",
    "    \n",
    "    # Ensure the segmented image is returned in a suitable format for visualization\n",
    "    # Convert segmented_image to a suitable type for visualization (e.g., uint8) if necessary\n",
    "    segmented_image_uint8 = tf.cast(segmented_image * 255, tf.uint8)\n",
    "    \n",
    "    return segmented_image_uint8\n"
   ]
  },
  {
   "cell_type": "code",
   "execution_count": 65,
   "metadata": {},
   "outputs": [],
   "source": [
    "segmented_image = segment_image(image2)"
   ]
  },
  {
   "cell_type": "code",
   "execution_count": 66,
   "metadata": {},
   "outputs": [
    {
     "data": {
      "image/png": "[encoded data removed]",
      "text/plain": [
       "<Figure size 640x480 with 1 Axes>"
      ]
     },
     "metadata": {},
     "output_type": "display_data"
    }
   ],
   "source": [
    "import matplotlib.pyplot as plt\n",
    "\n",
    "# Assuming `segmented_image` is the output from the `segment_image` function\n",
    "plt.imshow(segmented_image, cmap='gray')\n",
    "plt.show()\n"
   ]
  },
  {
   "cell_type": "code",
   "execution_count": 72,
   "metadata": {},
   "outputs": [],
   "source": [
    "from tensorflow.keras.preprocessing.image import img_to_array, load_img\n",
    "\n",
    "def prepare_image(image):\n",
    "    img_array = img_to_array(image)\n",
    "    img_array_expanded_dims = np.expand_dims(img_array, axis=0)\n",
    "    return img_array_expanded_dims"
   ]
  },
  {
   "cell_type": "code",
   "execution_count": 73,
   "metadata": {},
   "outputs": [],
   "source": [
    "preprocessed_image = prepare_image(segmented_image)\n"
   ]
  },
  {
   "cell_type": "markdown",
   "metadata": {},
   "source": [
    "# Loading the model"
   ]
  },
  {
   "cell_type": "code",
   "execution_count": 62,
   "metadata": {},
   "outputs": [],
   "source": [
    "from tensorflow.keras.models import load_model\n",
    "\n",
    "model = load_model('my_mlp_model')\n"
   ]
  },
  {
   "cell_type": "code",
   "execution_count": 81,
   "metadata": {},
   "outputs": [
    {
     "ename": "ValueError",
     "evalue": "in user code:\n\n    File \"c:\\Users\\admin\\anaconda3\\envs\\brain_tumor_env\\lib\\site-packages\\keras\\src\\engine\\training.py\", line 2341, in predict_function  *\n        return step_function(self, iterator)\n    File \"c:\\Users\\admin\\anaconda3\\envs\\brain_tumor_env\\lib\\site-packages\\keras\\src\\engine\\training.py\", line 2327, in step_function  **\n        outputs = model.distribute_strategy.run(run_step, args=(data,))\n    File \"c:\\Users\\admin\\anaconda3\\envs\\brain_tumor_env\\lib\\site-packages\\keras\\src\\engine\\training.py\", line 2315, in run_step  **\n        outputs = model.predict_step(data)\n    File \"c:\\Users\\admin\\anaconda3\\envs\\brain_tumor_env\\lib\\site-packages\\keras\\src\\engine\\training.py\", line 2283, in predict_step\n        return self(x, training=False)\n    File \"c:\\Users\\admin\\anaconda3\\envs\\brain_tumor_env\\lib\\site-packages\\keras\\src\\utils\\traceback_utils.py\", line 70, in error_handler\n        raise e.with_traceback(filtered_tb) from None\n    File \"c:\\Users\\admin\\anaconda3\\envs\\brain_tumor_env\\lib\\site-packages\\keras\\src\\engine\\input_spec.py\", line 280, in assert_input_compatibility\n        raise ValueError(\n\n    ValueError: Exception encountered when calling layer 'sequential' (type Sequential).\n    \n    Input 0 of layer \"dense\" is incompatible with the layer: expected axis -1 of input shape to have value 65536, but received input with shape (32, 256)\n    \n    Call arguments received by layer 'sequential' (type Sequential):\n      • inputs=tf.Tensor(shape=(32, 256, 1), dtype=uint8)\n      • training=False\n      • mask=None\n",
     "output_type": "error",
     "traceback": [
      "\u001b[1;31m---------------------------------------------------------------------------\u001b[0m",
      "\u001b[1;31mValueError\u001b[0m                                Traceback (most recent call last)",
      "Cell \u001b[1;32mIn[81], line 1\u001b[0m\n\u001b[1;32m----> 1\u001b[0m prediction \u001b[38;5;241m=\u001b[39m \u001b[43mmodel\u001b[49m\u001b[38;5;241;43m.\u001b[39;49m\u001b[43mpredict\u001b[49m\u001b[43m(\u001b[49m\u001b[43msegmented_image\u001b[49m\u001b[43m)\u001b[49m\n\u001b[0;32m      2\u001b[0m predicted_class \u001b[38;5;241m=\u001b[39m np\u001b[38;5;241m.\u001b[39margmax(prediction, axis\u001b[38;5;241m=\u001b[39m\u001b[38;5;241m1\u001b[39m)  \u001b[38;5;66;03m# Assuming a multi-class classification problem\u001b[39;00m\n\u001b[0;32m      4\u001b[0m \u001b[38;5;28mprint\u001b[39m(\u001b[38;5;124mf\u001b[39m\u001b[38;5;124m\"\u001b[39m\u001b[38;5;124mPredicted class: \u001b[39m\u001b[38;5;132;01m{\u001b[39;00mpredicted_class\u001b[38;5;132;01m}\u001b[39;00m\u001b[38;5;124m\"\u001b[39m)\n",
      "File \u001b[1;32mc:\\Users\\admin\\anaconda3\\envs\\brain_tumor_env\\lib\\site-packages\\keras\\src\\utils\\traceback_utils.py:70\u001b[0m, in \u001b[0;36mfilter_traceback.<locals>.error_handler\u001b[1;34m(*args, **kwargs)\u001b[0m\n\u001b[0;32m     67\u001b[0m     filtered_tb \u001b[38;5;241m=\u001b[39m _process_traceback_frames(e\u001b[38;5;241m.\u001b[39m__traceback__)\n\u001b[0;32m     68\u001b[0m     \u001b[38;5;66;03m# To get the full stack trace, call:\u001b[39;00m\n\u001b[0;32m     69\u001b[0m     \u001b[38;5;66;03m# `tf.debugging.disable_traceback_filtering()`\u001b[39;00m\n\u001b[1;32m---> 70\u001b[0m     \u001b[38;5;28;01mraise\u001b[39;00m e\u001b[38;5;241m.\u001b[39mwith_traceback(filtered_tb) \u001b[38;5;28;01mfrom\u001b[39;00m \u001b[38;5;28;01mNone\u001b[39;00m\n\u001b[0;32m     71\u001b[0m \u001b[38;5;28;01mfinally\u001b[39;00m:\n\u001b[0;32m     72\u001b[0m     \u001b[38;5;28;01mdel\u001b[39;00m filtered_tb\n",
      "File \u001b[1;32m~\\AppData\\Local\\Temp\\__autograph_generated_filegb060_fi.py:15\u001b[0m, in \u001b[0;36mouter_factory.<locals>.inner_factory.<locals>.tf__predict_function\u001b[1;34m(iterator)\u001b[0m\n\u001b[0;32m     13\u001b[0m \u001b[38;5;28;01mtry\u001b[39;00m:\n\u001b[0;32m     14\u001b[0m     do_return \u001b[38;5;241m=\u001b[39m \u001b[38;5;28;01mTrue\u001b[39;00m\n\u001b[1;32m---> 15\u001b[0m     retval_ \u001b[38;5;241m=\u001b[39m ag__\u001b[38;5;241m.\u001b[39mconverted_call(ag__\u001b[38;5;241m.\u001b[39mld(step_function), (ag__\u001b[38;5;241m.\u001b[39mld(\u001b[38;5;28mself\u001b[39m), ag__\u001b[38;5;241m.\u001b[39mld(iterator)), \u001b[38;5;28;01mNone\u001b[39;00m, fscope)\n\u001b[0;32m     16\u001b[0m \u001b[38;5;28;01mexcept\u001b[39;00m:\n\u001b[0;32m     17\u001b[0m     do_return \u001b[38;5;241m=\u001b[39m \u001b[38;5;28;01mFalse\u001b[39;00m\n",
      "\u001b[1;31mValueError\u001b[0m: in user code:\n\n    File \"c:\\Users\\admin\\anaconda3\\envs\\brain_tumor_env\\lib\\site-packages\\keras\\src\\engine\\training.py\", line 2341, in predict_function  *\n        return step_function(self, iterator)\n    File \"c:\\Users\\admin\\anaconda3\\envs\\brain_tumor_env\\lib\\site-packages\\keras\\src\\engine\\training.py\", line 2327, in step_function  **\n        outputs = model.distribute_strategy.run(run_step, args=(data,))\n    File \"c:\\Users\\admin\\anaconda3\\envs\\brain_tumor_env\\lib\\site-packages\\keras\\src\\engine\\training.py\", line 2315, in run_step  **\n        outputs = model.predict_step(data)\n    File \"c:\\Users\\admin\\anaconda3\\envs\\brain_tumor_env\\lib\\site-packages\\keras\\src\\engine\\training.py\", line 2283, in predict_step\n        return self(x, training=False)\n    File \"c:\\Users\\admin\\anaconda3\\envs\\brain_tumor_env\\lib\\site-packages\\keras\\src\\utils\\traceback_utils.py\", line 70, in error_handler\n        raise e.with_traceback(filtered_tb) from None\n    File \"c:\\Users\\admin\\anaconda3\\envs\\brain_tumor_env\\lib\\site-packages\\keras\\src\\engine\\input_spec.py\", line 280, in assert_input_compatibility\n        raise ValueError(\n\n    ValueError: Exception encountered when calling layer 'sequential' (type Sequential).\n    \n    Input 0 of layer \"dense\" is incompatible with the layer: expected axis -1 of input shape to have value 65536, but received input with shape (32, 256)\n    \n    Call arguments received by layer 'sequential' (type Sequential):\n      • inputs=tf.Tensor(shape=(32, 256, 1), dtype=uint8)\n      • training=False\n      • mask=None\n"
     ]
    }
   ],
   "source": [
    "\n",
    "prediction = model.predict(segmented_image)\n",
    "predicted_class = np.argmax(prediction, axis=1)  # Assuming a multi-class classification problem\n",
    "\n",
    "print(f\"Predicted class: {predicted_class}\")"
   ]
  },
  {
   "cell_type": "code",
   "execution_count": null,
   "metadata": {},
   "outputs": [],
   "source": []
  },
  {
   "cell_type": "markdown",
   "metadata": {},
   "source": [
    "# Testing"
   ]
  },
  {
   "cell_type": "code",
   "execution_count": 78,
   "metadata": {},
   "outputs": [],
   "source": [
    "image_path = 'C:/Users/admin/Desktop/Project/project-tumor-detection/research/Tr-pi_0011.jpg'\n"
   ]
  },
  {
   "cell_type": "code",
   "execution_count": 79,
   "metadata": {},
   "outputs": [],
   "source": [
    "image1 = load_and_convert_image(image_path)\n",
    "image2 = apply_median_filter(image1)\n",
    "image3 = segment_image(image2)\n",
    "image4 = prepare_image(image3)"
   ]
  },
  {
   "cell_type": "code",
   "execution_count": 80,
   "metadata": {},
   "outputs": [
    {
     "name": "stdout",
     "output_type": "stream",
     "text": [
      "1/1 [==============================] - 0s 24ms/step\n",
      "Predicted class: [2]\n"
     ]
    }
   ],
   "source": [
    "prediction = model.predict(image4)\n",
    "predicted_class = np.argmax(prediction, axis=1)  # Assuming a multi-class classification problem\n",
    "\n",
    "print(f\"Predicted class: {predicted_class}\")"
   ]
  },
  {
   "cell_type": "code",
   "execution_count": 89,
   "metadata": {},
   "outputs": [
    {
     "data": {
      "text/plain": [
       "numpy.ndarray"
      ]
     },
     "execution_count": 89,
     "metadata": {},
     "output_type": "execute_result"
    }
   ],
   "source": [
    "type(image4)"
   ]
  },
  {
   "cell_type": "code",
   "execution_count": 93,
   "metadata": {},
   "outputs": [],
   "source": [
    "!pip install scikit-image -q"
   ]
  },
  {
   "cell_type": "code",
   "execution_count": 82,
   "metadata": {},
   "outputs": [],
   "source": [
    "#KNN"
   ]
  },
  {
   "cell_type": "code",
   "execution_count": 91,
   "metadata": {},
   "outputs": [],
   "source": [
    "from joblib import load\n",
    "\n",
    "knn_model = load('my_knn_model.joblib')"
   ]
  },
  {
   "cell_type": "code",
   "execution_count": 96,
   "metadata": {},
   "outputs": [],
   "source": [
    "import numpy as np\n",
    "from sklearn.neighbors import KNeighborsClassifier\n",
    "from skimage.transform import resize\n",
    "# from joblib import load  # Uncomment this line if your model is saved with joblib\n",
    "\n",
    "def preprocess_image(image, target_size=(256, 256), flatten=True):\n",
    "    \"\"\"\n",
    "    Preprocess the image for KNN model prediction.\n",
    "    \n",
    "    Parameters:\n",
    "    - image: numpy.ndarray, the image to preprocess.\n",
    "    - target_size: tuple, the target size (width, height) of the image.\n",
    "    - flatten: bool, whether to flatten the image to a 1D array.\n",
    "    \n",
    "    Returns:\n",
    "    - preprocessed_image: numpy.ndarray, the preprocessed image.\n",
    "    \"\"\"\n",
    "    # Resize the image to the target size\n",
    "    resized_image = resize(image, target_size, anti_aliasing=True)\n",
    "    \n",
    "    # Flatten the image if required\n",
    "    if flatten:\n",
    "        preprocessed_image = resized_image.flatten()\n",
    "    else:\n",
    "        preprocessed_image = resized_image\n",
    "    \n",
    "    # Ensure the image is a single sample by adding an extra dimension if flattened\n",
    "    if flatten:\n",
    "        preprocessed_image = preprocessed_image.reshape(1, -1)\n",
    "    \n",
    "    return preprocessed_image\n",
    "\n",
    "import cv2\n",
    "\n",
    "def preprocess_image_opencv(image, target_size=(256, 256), flatten=True):\n",
    "    \"\"\"\n",
    "    Preprocess the image for KNN model prediction using OpenCV.\n",
    "    \n",
    "    Parameters:\n",
    "    - image: numpy.ndarray, the image to preprocess.\n",
    "    - target_size: tuple, the target size (width, height) of the image.\n",
    "    - flatten: bool, whether to flatten the image to a 1D array.\n",
    "    \n",
    "    Returns:\n",
    "    - preprocessed_image: numpy.ndarray, the preprocessed image.\n",
    "    \"\"\"\n",
    "    # Resize the image to the target size with OpenCV\n",
    "    resized_image = cv2.resize(image, target_size, interpolation=cv2.INTER_AREA)\n",
    "    \n",
    "    # Flatten the image if required\n",
    "    if flatten:\n",
    "        preprocessed_image = resized_image.flatten()\n",
    "    else:\n",
    "        preprocessed_image = resized_image\n",
    "    \n",
    "    # Ensure the image is a single sample by adding an extra dimension if flattened\n",
    "    if flatten:\n",
    "        preprocessed_image = preprocessed_image.reshape(1, -1)\n",
    "    \n",
    "    return preprocessed_image\n",
    "\n",
    "\n",
    "def predict_with_knn(model, image):\n",
    "    \"\"\"\n",
    "    Make a prediction with a KNN model given a preprocessed image.\n",
    "    \n",
    "    Parameters:\n",
    "    - model: KNeighborsClassifier, the trained KNN model.\n",
    "    - image: numpy.ndarray, the preprocessed image.\n",
    "    \n",
    "    Returns:\n",
    "    - prediction: the predicted class for the image.\n",
    "    \"\"\"\n",
    "    # Preprocess the image\n",
    "    preprocessed_image = preprocess_image_opencv(image)\n",
    "    \n",
    "    # Make a prediction\n",
    "    prediction = model.predict(preprocessed_image)\n",
    "    \n",
    "    return prediction\n",
    "\n",
    "\n"
   ]
  },
  {
   "cell_type": "code",
   "execution_count": 97,
   "metadata": {},
   "outputs": [
    {
     "ename": "error",
     "evalue": "OpenCV(4.9.0) D:\\a\\opencv-python\\opencv-python\\opencv\\modules\\imgproc\\src\\resize.cpp:3789: error: (-215:Assertion failed) !dsize.empty() in function 'cv::hal::resize'\n",
     "output_type": "error",
     "traceback": [
      "\u001b[1;31m---------------------------------------------------------------------------\u001b[0m",
      "\u001b[1;31merror\u001b[0m                                     Traceback (most recent call last)",
      "Cell \u001b[1;32mIn[97], line 2\u001b[0m\n\u001b[0;32m      1\u001b[0m \u001b[38;5;66;03m# Example usage (assuming `knn_model` is your loaded model and `input_image` is your numpy array)\u001b[39;00m\n\u001b[1;32m----> 2\u001b[0m prediction \u001b[38;5;241m=\u001b[39m \u001b[43mpredict_with_knn\u001b[49m\u001b[43m(\u001b[49m\u001b[43mknn_model\u001b[49m\u001b[43m,\u001b[49m\u001b[43m \u001b[49m\u001b[43mimage4\u001b[49m\u001b[43m)\u001b[49m\n\u001b[0;32m      3\u001b[0m \u001b[38;5;28mprint\u001b[39m(\u001b[38;5;124mf\u001b[39m\u001b[38;5;124m\"\u001b[39m\u001b[38;5;124mPredicted class: \u001b[39m\u001b[38;5;132;01m{\u001b[39;00mprediction\u001b[38;5;132;01m}\u001b[39;00m\u001b[38;5;124m\"\u001b[39m)\n",
      "Cell \u001b[1;32mIn[96], line 75\u001b[0m, in \u001b[0;36mpredict_with_knn\u001b[1;34m(model, image)\u001b[0m\n\u001b[0;32m     64\u001b[0m \u001b[38;5;250m\u001b[39m\u001b[38;5;124;03m\"\"\"\u001b[39;00m\n\u001b[0;32m     65\u001b[0m \u001b[38;5;124;03mMake a prediction with a KNN model given a preprocessed image.\u001b[39;00m\n\u001b[0;32m     66\u001b[0m \u001b[38;5;124;03m\u001b[39;00m\n\u001b[1;32m   (...)\u001b[0m\n\u001b[0;32m     72\u001b[0m \u001b[38;5;124;03m- prediction: the predicted class for the image.\u001b[39;00m\n\u001b[0;32m     73\u001b[0m \u001b[38;5;124;03m\"\"\"\u001b[39;00m\n\u001b[0;32m     74\u001b[0m \u001b[38;5;66;03m# Preprocess the image\u001b[39;00m\n\u001b[1;32m---> 75\u001b[0m preprocessed_image \u001b[38;5;241m=\u001b[39m \u001b[43mpreprocess_image_opencv\u001b[49m\u001b[43m(\u001b[49m\u001b[43mimage\u001b[49m\u001b[43m)\u001b[49m\n\u001b[0;32m     77\u001b[0m \u001b[38;5;66;03m# Make a prediction\u001b[39;00m\n\u001b[0;32m     78\u001b[0m prediction \u001b[38;5;241m=\u001b[39m model\u001b[38;5;241m.\u001b[39mpredict(preprocessed_image)\n",
      "Cell \u001b[1;32mIn[96], line 48\u001b[0m, in \u001b[0;36mpreprocess_image_opencv\u001b[1;34m(image, target_size, flatten)\u001b[0m\n\u001b[0;32m     36\u001b[0m \u001b[38;5;250m\u001b[39m\u001b[38;5;124;03m\"\"\"\u001b[39;00m\n\u001b[0;32m     37\u001b[0m \u001b[38;5;124;03mPreprocess the image for KNN model prediction using OpenCV.\u001b[39;00m\n\u001b[0;32m     38\u001b[0m \u001b[38;5;124;03m\u001b[39;00m\n\u001b[1;32m   (...)\u001b[0m\n\u001b[0;32m     45\u001b[0m \u001b[38;5;124;03m- preprocessed_image: numpy.ndarray, the preprocessed image.\u001b[39;00m\n\u001b[0;32m     46\u001b[0m \u001b[38;5;124;03m\"\"\"\u001b[39;00m\n\u001b[0;32m     47\u001b[0m \u001b[38;5;66;03m# Resize the image to the target size with OpenCV\u001b[39;00m\n\u001b[1;32m---> 48\u001b[0m resized_image \u001b[38;5;241m=\u001b[39m \u001b[43mcv2\u001b[49m\u001b[38;5;241;43m.\u001b[39;49m\u001b[43mresize\u001b[49m\u001b[43m(\u001b[49m\u001b[43mimage\u001b[49m\u001b[43m,\u001b[49m\u001b[43m \u001b[49m\u001b[43mtarget_size\u001b[49m\u001b[43m,\u001b[49m\u001b[43m \u001b[49m\u001b[43minterpolation\u001b[49m\u001b[38;5;241;43m=\u001b[39;49m\u001b[43mcv2\u001b[49m\u001b[38;5;241;43m.\u001b[39;49m\u001b[43mINTER_AREA\u001b[49m\u001b[43m)\u001b[49m\n\u001b[0;32m     50\u001b[0m \u001b[38;5;66;03m# Flatten the image if required\u001b[39;00m\n\u001b[0;32m     51\u001b[0m \u001b[38;5;28;01mif\u001b[39;00m flatten:\n",
      "\u001b[1;31merror\u001b[0m: OpenCV(4.9.0) D:\\a\\opencv-python\\opencv-python\\opencv\\modules\\imgproc\\src\\resize.cpp:3789: error: (-215:Assertion failed) !dsize.empty() in function 'cv::hal::resize'\n"
     ]
    }
   ],
   "source": [
    "\n",
    "# Example usage (assuming `knn_model` is your loaded model and `input_image` is your numpy array)\n",
    "prediction = predict_with_knn(knn_model, image4)\n",
    "print(f\"Predicted class: {prediction}\")"
   ]
  },
  {
   "cell_type": "code",
   "execution_count": null,
   "metadata": {},
   "outputs": [],
   "source": []
  }
 ],
 "metadata": {
  "kernelspec": {
   "display_name": "brain_tumor_env",
   "language": "python",
   "name": "python3"
  },
  "language_info": {
   "codemirror_mode": {
    "name": "ipython",
    "version": 3
   },
   "file_extension": ".py",
   "mimetype": "text/x-python",
   "name": "python",
   "nbconvert_exporter": "python",
   "pygments_lexer": "ipython3",
   "version": "3.8.18"
  }
 },
 "nbformat": 4,
 "nbformat_minor": 2
}
